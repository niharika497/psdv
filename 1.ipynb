{
  "nbformat": 4,
  "nbformat_minor": 0,
  "metadata": {
    "colab": {
      "provenance": []
    },
    "kernelspec": {
      "name": "python3",
      "display_name": "Python 3"
    },
    "language_info": {
      "name": "python"
    }
  },
  "cells": [
    {
      "cell_type": "code",
      "execution_count": 23,
      "metadata": {
        "colab": {
          "base_uri": "https://localhost:8080/"
        },
        "id": "dXRoyPehg-EL",
        "outputId": "6e7f504e-8b77-4b45-912f-bbd54373ebbc"
      },
      "outputs": [
        {
          "output_type": "stream",
          "name": "stdout",
          "text": [
            "sum of even numbers: 110\n",
            "product of odd numbers: 654729075\n",
            "mean: 10.5\n",
            "median: 10.5\n",
            "standard deviation: 5.766281297335398\n"
          ]
        }
      ],
      "source": [
        "l=[1,2,3,4,5,6,7,8,9,10,11,12,13,14,15,16,17,18,19,20]\n",
        "s1=0\n",
        "s2=1\n",
        "for i in l:\n",
        "  if i%2==0:\n",
        "    s1=s1+i\n",
        "  else:\n",
        "    s2=s2*i\n",
        "print(\"sum of even numbers:\",s1)\n",
        "print(\"product of odd numbers:\",s2)\n",
        "mean=sum(l)/len(l)\n",
        "print(\"mean:\",mean)\n",
        "median=(l[9]+l[10])/2\n",
        "print(\"median:\",median)\n",
        "s=0\n",
        "for i in l:\n",
        "  s=s+(i**2)\n",
        "t=s/20\n",
        "d1=t-(mean**2)\n",
        "d=d1**0.5\n",
        "print(\"standard deviation:\",d)\n",
        "\n"
      ]
    },
    {
      "cell_type": "code",
      "source": [],
      "metadata": {
        "id": "L0A-h1Z81nnb"
      },
      "execution_count": null,
      "outputs": []
    },
    {
      "cell_type": "markdown",
      "source": [
        "2.Mutable datatypes: the elements in these datatypes can be altered or can be editted.examples are lists,dictionaries.\n",
        "Immutable datatypes: the elements can't be altered or editted once they are defined.examples are tuples and strings."
      ],
      "metadata": {
        "id": "26SBdS90oj8e"
      }
    },
    {
      "cell_type": "code",
      "source": [
        "n=int(input(\"enter:\"))\n",
        "n1=0\n",
        "n2=1\n",
        "count=0\n",
        "if n==1:\n",
        "  print(\"1\")\n",
        "else:\n",
        "  print(\"finonacci numbers:\")\n",
        "  while count < n:\n",
        "    print(n1)\n",
        "    nt=n1+n2\n",
        "    n1=n2\n",
        "    n2=nt\n",
        "    count+=1\n"
      ],
      "metadata": {
        "colab": {
          "base_uri": "https://localhost:8080/"
        },
        "id": "2QjmQKHTpe7-",
        "outputId": "7236e3c0-4dac-4aac-df3e-ec7c64c0cc93"
      },
      "execution_count": 11,
      "outputs": [
        {
          "output_type": "stream",
          "name": "stdout",
          "text": [
            "enter5\n",
            "finonacci numbers:\n",
            "0\n",
            "1\n",
            "1\n",
            "2\n",
            "3\n"
          ]
        }
      ]
    },
    {
      "cell_type": "code",
      "source": [
        "l=[3,5,7,9,11,13]\n",
        "l+=[6]\n",
        "l.sort()\n",
        "l.remove(7)\n",
        "l.reverse()\n",
        "\n",
        "s=0\n",
        "m=sum(l)/6\n",
        "m1=(l[2]+l[3])/2\n",
        "print(l)\n",
        "print(\"mean:\",m)\n",
        "print(\"median:\",m1)\n"
      ],
      "metadata": {
        "colab": {
          "base_uri": "https://localhost:8080/"
        },
        "id": "vQPqJAGkww2b",
        "outputId": "9323ea79-bb08-4bbf-8818-c336a75de595"
      },
      "execution_count": 24,
      "outputs": [
        {
          "output_type": "stream",
          "name": "stdout",
          "text": [
            "[13, 11, 9, 6, 5, 3]\n",
            "mean: 7.833333333333333\n",
            "median: 7.5\n"
          ]
        }
      ]
    },
    {
      "cell_type": "code",
      "source": [],
      "metadata": {
        "id": "9pobV3ISzvNC"
      },
      "execution_count": null,
      "outputs": []
    }
  ]
}